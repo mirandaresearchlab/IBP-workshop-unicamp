{
 "cells": [
  {
   "cell_type": "code",
   "execution_count": 1,
   "id": "7001975d-259c-4edc-87f4-5ed28ca84c73",
   "metadata": {},
   "outputs": [],
   "source": [
    "# ===============================\n",
    "# AUTHOR : Gisele Miranda \n",
    "# CREATE DATE : 2025 - 07 - 17\n",
    "# PURPOSE : Data Analysis Strategies for Single-Cell Image-Based Profiling Workshop \n",
    "# \t\t\t @University of Campinas, Brazil\n",
    "# ==============================="
   ]
  },
  {
   "cell_type": "code",
   "execution_count": null,
   "id": "d22701e4-188b-4fa4-8d88-53cd8188f481",
   "metadata": {},
   "outputs": [],
   "source": []
  },
  {
   "cell_type": "code",
   "execution_count": null,
   "id": "5a7e0de1-dd48-4d30-a0ee-72ba0a823256",
   "metadata": {},
   "outputs": [],
   "source": [
    "# Cell 2: Configuration\n",
    "\n",
    "# Set your base path\n",
    "base_dir = Path(\"/Users/giselemiranda/MirandaLab/Collaborations/Marcelo-Unicamp/workshop-unicamp/data_day2/JUMP-CP/Brefeldin-A-like/Orig\")  # 🔁 CHANGE THIS\n",
    "\n",
    "# Define folders and channel mappings\n",
    "folders = [\"DNA\", \"Mito\", \"RNA\", \"ER\", \"AGP\"]\n",
    "channels = [\"C01\", \"C02\", \"C03\", \"C04\", \"C05\"]\n",
    "\n",
    "# User input: image ID prefix (up to T0001)\n",
    "target_prefix = \"CP1-SC1-08_P06_T0001\"  # 🔁 CHANGE THIS"
   ]
  },
  {
   "cell_type": "code",
   "execution_count": null,
   "id": "19e007a9-881d-4341-b36a-b4c7cc52936b",
   "metadata": {},
   "outputs": [],
   "source": [
    "from skimage import exposure\n",
    "\n",
    "images = []\n",
    "\n",
    "for folder, channel in zip(folders, channels):\n",
    "    folder_path = base_dir / folder\n",
    "    matched_file = None\n",
    "\n",
    "    for fname in os.listdir(folder_path):\n",
    "        if fname.startswith(target_prefix) and fname.endswith(f\"{channel}.tif\"):\n",
    "            matched_file = folder_path / fname\n",
    "            break\n",
    "\n",
    "    if matched_file is None:\n",
    "        raise FileNotFoundError(f\"Missing image for {channel} in {folder}\")\n",
    "\n",
    "    img = imageio.imread(matched_file)\n",
    "\n",
    "    # Rescale intensity to full 0–255 for better contrast\n",
    "    img_rescaled = exposure.rescale_intensity(img, out_range=(0, 255)).astype(np.uint8)\n",
    "\n",
    "    images.append(img_rescaled)\n",
    "\n",
    "print(\"Loaded and contrast-enhanced all 5 channel images.\")\n"
   ]
  },
  {
   "cell_type": "code",
   "execution_count": null,
   "id": "3797f665-a9ce-42fe-ae87-6ef19260eceb",
   "metadata": {},
   "outputs": [],
   "source": [
    "# Cell 4: Stack into composite (H, W, C)\n",
    "\n",
    "# Stack images along last axis → shape: (H, W, 5)\n",
    "composite = np.stack(images, axis=-1)\n",
    "print(\"Composite shape:\", composite.shape)\n"
   ]
  },
  {
   "cell_type": "code",
   "execution_count": null,
   "id": "a7dfad53-0aa1-4e11-8cdc-e390db6b79fb",
   "metadata": {},
   "outputs": [],
   "source": [
    "# Better contrast visualization using rescaled images\n",
    "fig, axs = plt.subplots(1, 5, figsize=(15, 3))\n",
    "for i in range(5):\n",
    "    axs[i].imshow(images[i], cmap='gray', vmin=0, vmax=255)\n",
    "    axs[i].set_title(f\"Channel {i+1}\")\n",
    "    axs[i].axis('off')\n",
    "plt.tight_layout()\n",
    "plt.show()\n"
   ]
  },
  {
   "cell_type": "code",
   "execution_count": null,
   "id": "1a29f3fc-1685-465e-aa4f-680561166eb4",
   "metadata": {},
   "outputs": [],
   "source": [
    "# Map selected channels to RGB and enhance contrast\n",
    "rgb = np.stack([\n",
    "    images[0],  # R: DNA\n",
    "    images[1],  # G: Mito\n",
    "    images[2],  # B: RNA\n",
    "], axis=-1)\n",
    "\n",
    "# Normalize again for display\n",
    "rgb_display = rgb.astype(np.uint8)\n",
    "\n",
    "plt.figure(figsize=(5,5))\n",
    "plt.imshow(rgb_display)\n",
    "plt.title(\"RGB Composite (Channels 1–3) with Enhanced Contrast\")\n",
    "plt.axis('off')\n",
    "plt.show()\n",
    "\n"
   ]
  },
  {
   "cell_type": "code",
   "execution_count": null,
   "id": "513ebfef-5892-41c1-afe4-5330743d75e5",
   "metadata": {},
   "outputs": [],
   "source": []
  }
 ],
 "metadata": {
  "kernelspec": {
   "display_name": "Python 3 (ipykernel)",
   "language": "python",
   "name": "python3"
  },
  "language_info": {
   "codemirror_mode": {
    "name": "ipython",
    "version": 3
   },
   "file_extension": ".py",
   "mimetype": "text/x-python",
   "name": "python",
   "nbconvert_exporter": "python",
   "pygments_lexer": "ipython3",
   "version": "3.12.4"
  }
 },
 "nbformat": 4,
 "nbformat_minor": 5
}
